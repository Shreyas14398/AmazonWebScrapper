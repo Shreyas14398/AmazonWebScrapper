{
 "cells": [
  {
   "cell_type": "code",
   "execution_count": 1,
   "id": "63fa9807",
   "metadata": {},
   "outputs": [],
   "source": [
    "# import libraries\n",
    "\n",
    "from bs4 import BeautifulSoup\n",
    "import requests\n",
    "import time\n",
    "import datetime\n",
    "import smtplib\n",
    "import csv\n",
    "import datetime\n",
    "import pandas as pd\n",
    "import pyperclip as pc"
   ]
  },
  {
   "cell_type": "code",
   "execution_count": 2,
   "id": "e1eaa190",
   "metadata": {},
   "outputs": [],
   "source": [
    "\n",
    "subject = \"Hurray! The product can now be purchased\"\n",
    "body = \"The product has dropped below the target. Hurry up and order now!\"\n",
    "sender = \"northside12126@gmail.com\"\n",
    "password = \"qyydlkpapmkpmoiw\"\n"
   ]
  },
  {
   "cell_type": "code",
   "execution_count": 3,
   "id": "b8cbed52",
   "metadata": {},
   "outputs": [],
   "source": [
    "from email.mime.text import MIMEText\n",
    "def send_email(subject, body, sender, email_id, password):\n",
    "    msg = MIMEText(body)\n",
    "    msg['Subject'] = subject\n",
    "    msg['From'] = sender\n",
    "    msg['To'] = ', '.join(email_id)\n",
    "    smtp_server = smtplib.SMTP_SSL('smtp.gmail.com', 465)\n",
    "    smtp_server.login(sender, password)\n",
    "    smtp_server.sendmail(sender, email_id, msg.as_string())\n",
    "    smtp_server.quit()"
   ]
  },
  {
   "cell_type": "code",
   "execution_count": 4,
   "id": "585a05cb",
   "metadata": {},
   "outputs": [],
   "source": [
    "def check_price(product_url,target_price,email_id):\n",
    "    URL = product_url\n",
    "    headers = {\"User-Agent\": \"Mozilla/5.0 (Windows NT 10.0; Win64; x64) AppleWebKit/537.36 (KHTML, like Gecko) Chrome/109.0.0.0 Safari/537.36\"}\n",
    "\n",
    "    page = requests.get(URL, headers=headers, cookies={'__hs_opt_out':'no'})\n",
    "\n",
    "    soup1 = BeautifulSoup(page.content, \"html.parser\")\n",
    "\n",
    "    soup2 = BeautifulSoup(soup1.prettify(), \"html.parser\")\n",
    "\n",
    "    title = soup2.find(id='productTitle').get_text()\n",
    "\n",
    "    price = soup2.find('span', {'class':\"a-offscreen\"}).text.strip()\n",
    "    \n",
    "    price = price[1:]\n",
    "    \n",
    "    title = title.strip()\n",
    "\n",
    "    today = datetime.date.today()\n",
    "    \n",
    "    header = ['Title','Price','Date']\n",
    "    \n",
    "    data = [title,price,today]\n",
    "    \n",
    "    with open('AmazonWebScraperDataset.csv','a+',newline='',encoding='UTF8') as f:\n",
    "        writer = csv.writer(f)\n",
    "        writer.writerow(data)\n",
    "        \n",
    "    if float(price)<=target_price:\n",
    "        send_email(subject, body, sender, email_id, password)\n",
    "    "
   ]
  },
  {
   "cell_type": "code",
   "execution_count": 5,
   "id": "f5ac2d94",
   "metadata": {
    "scrolled": true
   },
   "outputs": [],
   "source": [
    "# df=pd.read_csv('AmazonWebScraperDataset.csv')\n",
    "# print(df)"
   ]
  },
  {
   "cell_type": "code",
   "execution_count": 6,
   "id": "c80031fb",
   "metadata": {},
   "outputs": [],
   "source": [
    "# header = ['Title','Price','Date']\n",
    "# data = [title,price,today]\n",
    "\n",
    "# with open('AmazonWebScraperDataset.csv','w',newline='',encoding='UTF8') as f:\n",
    "#     writer = csv.writer(f)\n",
    "#     writer.writerow(header)\n",
    "#     writer.writerow(data)"
   ]
  },
  {
   "cell_type": "code",
   "execution_count": 7,
   "id": "dfaf0a76",
   "metadata": {},
   "outputs": [
    {
     "name": "stdout",
     "output_type": "stream",
     "text": [
      "Pasted https://www.amazon.com/Echo-Show-8-2nd-Gen-2021-release/dp/B084DCJKSL?ref_=Oct_DLandingS_D_6751ca15_60 from clipboard. Change? Y/N\n",
      "N\n",
      "Enter target price: 19\n",
      "Enter email to notify if price drops below: sashankvisweshwaran@gmail.com\n"
     ]
    }
   ],
   "source": [
    "product_url=pc.paste().strip()\n",
    "\n",
    "if product_url!=\"\":\n",
    "    print(\"Pasted\",product_url,\"from clipboard. Change? Y/N\")\n",
    "    clipboard_choice=input()\n",
    "    if clipboard_choice.lower()==\"y\":\n",
    "        product_url=input(\"Enter product URL: \")\n",
    "else:\n",
    "    product_url=input(\"Enter product URL: \")\n",
    "    \n",
    "target_price=int(input(\"Enter target price: \"))\n",
    "\n",
    "email_id=input(\"Enter email to notify if price drops below: \")"
   ]
  },
  {
   "cell_type": "code",
   "execution_count": 8,
   "id": "0b2e8aab",
   "metadata": {
    "scrolled": true
   },
   "outputs": [
    {
     "name": "stderr",
     "output_type": "stream",
     "text": [
      "\n",
      "KeyboardInterrupt\n",
      "\n"
     ]
    }
   ],
   "source": [
    "while(True):\n",
    "    check_price(product_url,target_price,email_id)\n",
    "    time.sleep(5)"
   ]
  },
  {
   "cell_type": "code",
   "execution_count": null,
   "id": "8f624741",
   "metadata": {},
   "outputs": [],
   "source": [
    "# email_id = \"shreyasn9814@gmail.com\"\n",
    "# target_price = 19\n",
    "# product_url = 'https://www.amazon.com/Funny-Data-Systems-Business-Analyst/dp/B07FNW9FGJ/ref=sr_1_5?crid=1PHPIFSOMX3W7&keywords=data%2Banalyst%2Bshirt&qid=1675556679&sprefix=data%2Banalyst%2Caps%2C139&sr=8-5'"
   ]
  },
  {
   "cell_type": "code",
   "execution_count": null,
   "id": "26de3cbb",
   "metadata": {},
   "outputs": [],
   "source": []
  },
  {
   "cell_type": "code",
   "execution_count": null,
   "id": "69cd028a",
   "metadata": {},
   "outputs": [],
   "source": []
  },
  {
   "cell_type": "code",
   "execution_count": null,
   "id": "4437ca8d",
   "metadata": {},
   "outputs": [],
   "source": []
  }
 ],
 "metadata": {
  "kernelspec": {
   "display_name": "Python 3 (ipykernel)",
   "language": "python",
   "name": "python3"
  },
  "language_info": {
   "codemirror_mode": {
    "name": "ipython",
    "version": 3
   },
   "file_extension": ".py",
   "mimetype": "text/x-python",
   "name": "python",
   "nbconvert_exporter": "python",
   "pygments_lexer": "ipython3",
   "version": "3.9.12"
  }
 },
 "nbformat": 4,
 "nbformat_minor": 5
}
