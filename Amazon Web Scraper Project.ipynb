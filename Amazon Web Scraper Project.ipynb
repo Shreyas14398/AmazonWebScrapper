{
 "cells": [
  {
   "cell_type": "code",
   "execution_count": 1,
   "id": "63fa9807",
   "metadata": {},
   "outputs": [],
   "source": [
    "# import libraries\n",
    "\n",
    "from bs4 import BeautifulSoup\n",
    "import requests\n",
    "import time\n",
    "import datetime\n",
    "import smtplib\n",
    "import csv\n",
    "import datetime\n",
    "import pandas as pd"
   ]
  },
  {
   "cell_type": "code",
   "execution_count": 2,
   "id": "e1eaa190",
   "metadata": {},
   "outputs": [],
   "source": [
    "\n",
    "subject = \"Hurray! The product can now be purchased\"\n",
    "body = \"The product has dropped below the target. Hurry up and order now!\"\n",
    "sender = \"northside12126@gmail.com\"\n",
    "password = \"qyydlkpapmkpmoiw\"\n"
   ]
  },
  {
   "cell_type": "code",
   "execution_count": 18,
   "id": "b8cbed52",
   "metadata": {},
   "outputs": [],
   "source": [
    "from email.mime.text import MIMEText\n",
    "def send_email(subject, body, sender, email_id, password):\n",
    "    msg = MIMEText(body)\n",
    "    msg['Subject'] = subject\n",
    "    msg['From'] = sender\n",
    "    msg['To'] = ', '.join(email_id)\n",
    "    smtp_server = smtplib.SMTP_SSL('smtp.gmail.com', 465)\n",
    "    smtp_server.login(sender, password)\n",
    "    smtp_server.sendmail(sender, email_id, msg.as_string())\n",
    "    smtp_server.quit()"
   ]
  },
  {
   "cell_type": "code",
   "execution_count": 19,
   "id": "585a05cb",
   "metadata": {},
   "outputs": [],
   "source": [
    "def check_price(product_url,target_price,email_id):\n",
    "    URL = product_url\n",
    "    headers = {\"User-Agent\": \"Mozilla/5.0 (Windows NT 10.0; Win64; x64) AppleWebKit/537.36 (KHTML, like Gecko) Chrome/109.0.0.0 Safari/537.36\"}\n",
    "\n",
    "    page = requests.get(URL, headers=headers, cookies={'__hs_opt_out':'no'})\n",
    "\n",
    "    soup1 = BeautifulSoup(page.content, \"html.parser\")\n",
    "\n",
    "    soup2 = BeautifulSoup(soup1.prettify(), \"html.parser\")\n",
    "\n",
    "    title = soup2.find(id='productTitle').get_text()\n",
    "\n",
    "    price = soup2.find('span', {'class':\"a-offscreen\"}).text.strip()\n",
    "    \n",
    "    price = price[1:]\n",
    "    \n",
    "    title = title.strip()\n",
    "\n",
    "    today = datetime.date.today()\n",
    "    \n",
    "    header = ['Title','Price','Date']\n",
    "    \n",
    "    data = [title,price,today]\n",
    "    \n",
    "    with open('AmazonWebScraperDataset.csv','a+',newline='',encoding='UTF8') as f:\n",
    "        writer = csv.writer(f)\n",
    "        writer.writerow(data)\n",
    "        \n",
    "    if float(price)<=target_price:\n",
    "        send_email(subject, body, sender, email_id, password)\n",
    "    "
   ]
  },
  {
   "cell_type": "code",
   "execution_count": 20,
   "id": "f5ac2d94",
   "metadata": {
    "scrolled": true
   },
   "outputs": [
    {
     "name": "stdout",
     "output_type": "stream",
     "text": [
      "                                                Title  Price        Date\n",
      "0   Funny Got Data MIS Data Systems Business Analy...  16.99  2023-02-04\n",
      "1   Funny Got Data MIS Data Systems Business Analy...  16.99  2023-02-04\n",
      "2   Funny Got Data MIS Data Systems Business Analy...  16.99  2023-02-04\n",
      "3   Funny Got Data MIS Data Systems Business Analy...  16.99  2023-02-04\n",
      "4   Funny Got Data MIS Data Systems Business Analy...  16.99  2023-02-04\n",
      "5   Funny Got Data MIS Data Systems Business Analy...  16.99  2023-02-12\n",
      "6   Funny Got Data MIS Data Systems Business Analy...  16.99  2023-02-12\n",
      "7   Funny Got Data MIS Data Systems Business Analy...  16.99  2023-02-12\n",
      "8   Funny Got Data MIS Data Systems Business Analy...  16.99  2023-02-12\n",
      "9   Funny Got Data MIS Data Systems Business Analy...  16.99  2023-02-12\n",
      "10  Funny Got Data MIS Data Systems Business Analy...  16.99  2023-02-12\n",
      "11  Funny Got Data MIS Data Systems Business Analy...  16.99  2023-02-12\n",
      "12  Funny Got Data MIS Data Systems Business Analy...  16.99  2023-02-12\n"
     ]
    }
   ],
   "source": [
    "df=pd.read_csv('AmazonWebScraperDataset.csv')\n",
    "print(df)"
   ]
  },
  {
   "cell_type": "code",
   "execution_count": 21,
   "id": "c80031fb",
   "metadata": {},
   "outputs": [],
   "source": [
    "# header = ['Title','Price','Date']\n",
    "# data = [title,price,today]\n",
    "\n",
    "# with open('AmazonWebScraperDataset.csv','w',newline='',encoding='UTF8') as f:\n",
    "#     writer = csv.writer(f)\n",
    "#     writer.writerow(header)\n",
    "#     writer.writerow(data)"
   ]
  },
  {
   "cell_type": "code",
   "execution_count": 22,
   "id": "0b2e8aab",
   "metadata": {
    "scrolled": true
   },
   "outputs": [
    {
     "ename": "KeyboardInterrupt",
     "evalue": "",
     "output_type": "error",
     "traceback": [
      "\u001b[0;31m---------------------------------------------------------------------------\u001b[0m",
      "\u001b[0;31mKeyboardInterrupt\u001b[0m                         Traceback (most recent call last)",
      "\u001b[0;32m/var/folders/13/sk82sysd4nv0ccs9b7hyhsx00000gn/T/ipykernel_10868/2715990459.py\u001b[0m in \u001b[0;36m<module>\u001b[0;34m\u001b[0m\n\u001b[1;32m      1\u001b[0m \u001b[0;32mwhile\u001b[0m\u001b[0;34m(\u001b[0m\u001b[0;32mTrue\u001b[0m\u001b[0;34m)\u001b[0m\u001b[0;34m:\u001b[0m\u001b[0;34m\u001b[0m\u001b[0;34m\u001b[0m\u001b[0m\n\u001b[1;32m      2\u001b[0m     \u001b[0mcheck_price\u001b[0m\u001b[0;34m(\u001b[0m\u001b[0mproduct_url\u001b[0m\u001b[0;34m,\u001b[0m\u001b[0mtarget_price\u001b[0m\u001b[0;34m,\u001b[0m\u001b[0memail_id\u001b[0m\u001b[0;34m)\u001b[0m\u001b[0;34m\u001b[0m\u001b[0;34m\u001b[0m\u001b[0m\n\u001b[0;32m----> 3\u001b[0;31m     \u001b[0mtime\u001b[0m\u001b[0;34m.\u001b[0m\u001b[0msleep\u001b[0m\u001b[0;34m(\u001b[0m\u001b[0;36m5\u001b[0m\u001b[0;34m)\u001b[0m\u001b[0;34m\u001b[0m\u001b[0;34m\u001b[0m\u001b[0m\n\u001b[0m",
      "\u001b[0;31mKeyboardInterrupt\u001b[0m: "
     ]
    }
   ],
   "source": [
    "while(True):\n",
    "    check_price(product_url,target_price,email_id)\n",
    "    time.sleep(5)"
   ]
  },
  {
   "cell_type": "code",
   "execution_count": 14,
   "id": "8f624741",
   "metadata": {},
   "outputs": [],
   "source": [
    "email_id = \"shreyasn9814@gmail.com\"\n",
    "target_price = 19\n",
    "product_url = 'https://www.amazon.com/Funny-Data-Systems-Business-Analyst/dp/B07FNW9FGJ/ref=sr_1_5?crid=1PHPIFSOMX3W7&keywords=data%2Banalyst%2Bshirt&qid=1675556679&sprefix=data%2Banalyst%2Caps%2C139&sr=8-5'"
   ]
  },
  {
   "cell_type": "code",
   "execution_count": null,
   "id": "26de3cbb",
   "metadata": {},
   "outputs": [],
   "source": []
  }
 ],
 "metadata": {
  "kernelspec": {
   "display_name": "Python 3 (ipykernel)",
   "language": "python",
   "name": "python3"
  },
  "language_info": {
   "codemirror_mode": {
    "name": "ipython",
    "version": 3
   },
   "file_extension": ".py",
   "mimetype": "text/x-python",
   "name": "python",
   "nbconvert_exporter": "python",
   "pygments_lexer": "ipython3",
   "version": "3.9.13"
  }
 },
 "nbformat": 4,
 "nbformat_minor": 5
}
